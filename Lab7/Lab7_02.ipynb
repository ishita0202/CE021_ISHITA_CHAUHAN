{
 "cells": [
  {
   "cell_type": "code",
   "execution_count": 1,
   "metadata": {},
   "outputs": [],
   "source": [
    "from __future__ import absolute_import, division, print_function\n",
    "import tensorflow as tf\n",
    "import numpy as np"
   ]
  },
  {
   "cell_type": "code",
   "execution_count": 2,
   "metadata": {},
   "outputs": [
    {
     "name": "stdout",
     "output_type": "stream",
     "text": [
      "(60000, 28, 28)\n",
      "(60000, 784)\n"
     ]
    }
   ],
   "source": [
    "#Loading and Preparing the MNIST Data Set\n",
    "from tensorflow.keras.datasets import mnist\n",
    "(x_train, y_train), (x_test, y_test) = mnist.load_data()\n",
    "#print(x_train)\n",
    "# print(y_train)\n",
    "x_train, x_test = np.array(x_train, np.float32), np.array(x_test, np.float32)\n",
    "#Flatten images to 1-D vector of 784 features (28*28).\n",
    "num_features=784\n",
    "print(x_train.shape)\n",
    "x_train, x_test = x_train.reshape([-1, num_features]), x_test.reshape([-1, num_features])\n",
    "print(x_train.shape)\n",
    "# Normalize images value from [0, 255] to [0, 1].\n",
    "x_train, x_test = x_train / 255., x_test / 255.\n",
    "# print(x_train)"
   ]
  },
  {
   "cell_type": "code",
   "execution_count": 3,
   "metadata": {},
   "outputs": [],
   "source": [
    "#Setting Up Hyperparameters and Data Set Parameters\n",
    "#MNIST dataset parameters\n",
    "num_classes = 10 # 0 to 9 digits\n",
    "num_features = 784 # 28*28\n",
    "\n",
    "# Training parameters\n",
    "learning_rate = 0.01\n",
    "training_steps = 1000\n",
    "batch_size = 256\n",
    "display_step = 50"
   ]
  },
  {
   "cell_type": "code",
   "execution_count": 4,
   "metadata": {},
   "outputs": [
    {
     "name": "stdout",
     "output_type": "stream",
     "text": [
      "<PrefetchDataset shapes: ((None, 784), (None,)), types: (tf.float32, tf.uint8)>\n"
     ]
    }
   ],
   "source": [
    "#SHUFFLING AND BATCHING THE DATA\n",
    "#Use tf.data API to shuffle and batch data.\n",
    "\n",
    "train_data=tf.data.Dataset.from_tensor_slices((x_train,y_train))\n",
    "train_data=train_data.repeat().shuffle(5000).batch(batch_size).prefetch(1)\n",
    "print(train_data)"
   ]
  },
  {
   "cell_type": "code",
   "execution_count": 5,
   "metadata": {},
   "outputs": [
    {
     "name": "stdout",
     "output_type": "stream",
     "text": [
      "<tf.Variable 'weight:0' shape=(784, 10) dtype=float32, numpy=\n",
      "array([[1., 1., 1., ..., 1., 1., 1.],\n",
      "       [1., 1., 1., ..., 1., 1., 1.],\n",
      "       [1., 1., 1., ..., 1., 1., 1.],\n",
      "       ...,\n",
      "       [1., 1., 1., ..., 1., 1., 1.],\n",
      "       [1., 1., 1., ..., 1., 1., 1.],\n",
      "       [1., 1., 1., ..., 1., 1., 1.]], dtype=float32)>\n",
      "<tf.Variable 'bias:0' shape=(10,) dtype=float32, numpy=array([0., 0., 0., 0., 0., 0., 0., 0., 0., 0.], dtype=float32)>\n"
     ]
    }
   ],
   "source": [
    "#initialize weight and biases\n",
    "W = tf.Variable(tf.ones([num_features, num_classes]), name=\"weight\")\n",
    "print(W)\n",
    "b = tf.Variable(tf.zeros([num_classes]), name=\"bias\")\n",
    "print(b)"
   ]
  },
  {
   "cell_type": "code",
   "execution_count": 6,
   "metadata": {},
   "outputs": [],
   "source": [
    "#define logistic regression and cost function\n",
    "def logistic_regression(x):\n",
    "    sm=tf.nn.softmax(tf.matmul(x, W) + b)\n",
    "    return sm\n",
    "#loss function.\n",
    "\n",
    "def cross_entropy(y_pred, y_true):\n",
    "    #label to a one hot vector\n",
    "    y_true = tf.one_hot(y_true, depth=num_classes)\n",
    "    y_pred = tf.clip_by_value(y_pred, 1e-9, 1.)\n",
    "    #Calculate cross-entropy.\n",
    "    entropy=tf.reduce_mean(-tf.reduce_sum(y_true * tf.math.log(y_pred)))\n",
    "    return entropy"
   ]
  },
  {
   "cell_type": "code",
   "execution_count": 7,
   "metadata": {},
   "outputs": [],
   "source": [
    "def accuracy(y_pred, y_true):\n",
    "    correct_prediction = tf.equal(tf.argmax(y_pred, 1), tf.cast(y_true, tf.int64))\n",
    "    acc=tf.reduce_mean(tf.cast(correct_prediction, tf.float32))\n",
    "    return acc\n",
    "optimizer = tf.optimizers.SGD(learning_rate)"
   ]
  },
  {
   "cell_type": "code",
   "execution_count": 8,
   "metadata": {},
   "outputs": [],
   "source": [
    "def run_optimization(x, y):\n",
    "    with tf.GradientTape() as g:\n",
    "        pred = logistic_regression(x)\n",
    "        loss = cross_entropy(pred, y)\n",
    "    #calculate gradient\n",
    "    gradients = g.gradient(loss, [W, b])\n",
    "    # Update W and b\n",
    "    optimizer.apply_gradients(zip(gradients, [W, b]))"
   ]
  },
  {
   "cell_type": "code",
   "execution_count": 9,
   "metadata": {},
   "outputs": [
    {
     "name": "stdout",
     "output_type": "stream",
     "text": [
      "step: 50, loss: 997.842285, accuracy: 0.683594\n",
      "step: 100, loss: 1029.174927, accuracy: 0.765625\n",
      "step: 150, loss: 1595.479004, accuracy: 0.652344\n",
      "step: 200, loss: 1280.970703, accuracy: 0.585938\n",
      "step: 250, loss: 633.649353, accuracy: 0.792969\n",
      "step: 300, loss: 430.701538, accuracy: 0.878906\n",
      "step: 350, loss: 633.924133, accuracy: 0.832031\n",
      "step: 400, loss: 462.249725, accuracy: 0.867188\n",
      "step: 450, loss: 798.943237, accuracy: 0.808594\n",
      "step: 500, loss: 582.839722, accuracy: 0.824219\n",
      "step: 550, loss: 656.069458, accuracy: 0.832031\n",
      "step: 600, loss: 602.234497, accuracy: 0.777344\n",
      "step: 650, loss: 642.905518, accuracy: 0.777344\n",
      "step: 700, loss: 762.010437, accuracy: 0.781250\n",
      "step: 750, loss: 689.004456, accuracy: 0.812500\n",
      "step: 800, loss: 1117.997559, accuracy: 0.703125\n",
      "step: 850, loss: 622.165833, accuracy: 0.796875\n",
      "step: 900, loss: 592.928955, accuracy: 0.812500\n",
      "step: 950, loss: 437.539001, accuracy: 0.859375\n",
      "step: 1000, loss: 685.601807, accuracy: 0.792969\n"
     ]
    }
   ],
   "source": [
    "for step, (batch_x, batch_y) in enumerate(train_data.take(training_steps), 1):\n",
    "    #update W and b values\n",
    "    run_optimization(batch_x, batch_y)\n",
    "    if step % display_step == 0:\n",
    "        pred = logistic_regression(batch_x)\n",
    "        loss = cross_entropy(pred, batch_y)\n",
    "        acc = accuracy(pred, batch_y)\n",
    "        print(\"step: %i, loss: %f, accuracy: %f\" % (step, loss, acc))"
   ]
  },
  {
   "cell_type": "code",
   "execution_count": 10,
   "metadata": {},
   "outputs": [
    {
     "name": "stdout",
     "output_type": "stream",
     "text": [
      "Test Accuracy: 0.812900\n"
     ]
    }
   ],
   "source": [
    "#Testing model\n",
    "pred = logistic_regression(x_test)\n",
    "print(\"Test Accuracy: %f\" % accuracy(pred, y_test))"
   ]
  }
 ],
 "metadata": {
  "interpreter": {
   "hash": "7f1ac881e98f8dc79c38ff4663acabcc3cd2fe893f80c95c6ef9b027b338431f"
  },
  "kernelspec": {
   "display_name": "Python 3.8.0 64-bit",
   "language": "python",
   "name": "python3"
  },
  "language_info": {
   "codemirror_mode": {
    "name": "ipython",
    "version": 3
   },
   "file_extension": ".py",
   "mimetype": "text/x-python",
   "name": "python",
   "nbconvert_exporter": "python",
   "pygments_lexer": "ipython3",
   "version": "3.8.0"
  },
  "orig_nbformat": 4
 },
 "nbformat": 4,
 "nbformat_minor": 2
}
