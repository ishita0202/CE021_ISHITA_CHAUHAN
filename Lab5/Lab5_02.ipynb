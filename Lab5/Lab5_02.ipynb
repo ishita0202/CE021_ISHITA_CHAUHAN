{
  "cells": [
    {
      "cell_type": "markdown",
      "metadata": {
        "id": "KCP4bO8nHbhn"
      },
      "source": [
        "Task 1: Try the algo on Same Weather dataset - LabelEncoding of features:and Train test Division 95%-5%"
      ]
    },
    {
      "cell_type": "code",
      "execution_count": 1,
      "metadata": {
        "id": "ajZGyewEEtPJ"
      },
      "outputs": [],
      "source": [
        "from sklearn import preprocessing\n",
        "from sklearn.tree import DecisionTreeClassifier\n",
        "\n",
        "#dataset\n",
        "Outlook = ['Rainy', 'Rainy', 'Overcast', 'Sunny', 'Sunny', 'Sunny',\n",
        "'Overcast',\n",
        "'Rainy', 'Rainy', 'Sunny', 'Rainy','Overcast', 'Overcast',\n",
        "'Sunny']\n",
        "Temperature = ['Hot', 'Hot', 'Hot', 'Mild', 'Cool', 'Cool', 'Cool',\n",
        "'Mild', 'Cool', 'Mild', 'Mild', 'Mild', 'Hot', 'Mild']\n",
        "Humidity = ['High', 'High', 'High', 'High', 'Normal', 'Normal', 'Normal',\n",
        "'High', 'Normal', 'Normal', 'Normal', 'High', 'Normal'\n",
        ",'High']\n",
        "Wind = ['False', 'True', 'False', 'False', 'False', 'True', 'True',\n",
        "'False', 'False', 'False', 'True', 'True', 'False', 'True']\n",
        "#Class Label:\n",
        "Play = ['No', 'No', 'Yes', 'Yes', 'Yes', 'No', 'Yes', 'No',\n",
        "'Yes', 'Yes', 'Yes', 'Yes', 'Yes', 'No']"
      ]
    },
    {
      "cell_type": "code",
      "execution_count": 2,
      "metadata": {
        "colab": {
          "base_uri": "https://localhost:8080/"
        },
        "id": "frRiloN-HyqN",
        "outputId": "03c26e79-8582-413c-d6f4-37c8c91df25b"
      },
      "outputs": [
        {
          "output_type": "stream",
          "name": "stdout",
          "text": [
            "Outllok mapping: {'Overcast': 0, 'Rainy': 1, 'Sunny': 2}\n",
            "Temperature mapping: {'Cool': 0, 'Hot': 1, 'Mild': 2}\n",
            "Humidity mapping: {'High': 0, 'Normal': 1}\n",
            "Wind mapping: {'False': 0, 'True': 1}\n",
            "Play mapping: {'No': 0, 'Yes': 1}\n",
            "\n",
            "\n",
            "\n",
            "Weather: [1 1 0 2 2 2 0 1 1 2 1 0 0 2]\n",
            "Temerature: [1 1 1 2 0 0 0 2 0 2 2 2 1 2]\n",
            "Humidity: [0 0 0 0 1 1 1 0 1 1 1 0 1 0]\n",
            "Wind: [0 1 0 0 0 1 1 0 0 0 1 1 0 1]\n",
            "Play: [0 0 1 1 1 0 1 0 1 1 1 1 1 0]\n"
          ]
        }
      ],
      "source": [
        "le = preprocessing.LabelEncoder()\n",
        "Outlook_encoded = le.fit_transform(Outlook)\n",
        "Outlook_name_mapping = dict(zip(le.classes_, le.transform(le.classes_)))\n",
        "print(\"Outllok mapping:\",Outlook_name_mapping)\n",
        "Temperature_encoded = le.fit_transform(Temperature)\n",
        "Temperature_name_mapping = dict(zip(le.classes_, le.transform(le.classes_)))\n",
        "print(\"Temperature mapping:\",Temperature_name_mapping)\n",
        "Humidity_encoded = le.fit_transform(Humidity)\n",
        "Humidity_name_mapping = dict(zip(le.classes_, le.transform(le.classes_)))\n",
        "print(\"Humidity mapping:\",Humidity_name_mapping)\n",
        "Wind_encoded = le.fit_transform(Wind)\n",
        "Wind_name_mapping = dict(zip(le.classes_, le.transform(le.classes_)))\n",
        "print(\"Wind mapping:\",Wind_name_mapping)\n",
        "Play_encoded = le.fit_transform(Play)\n",
        "Play_name_mapping = dict(zip(le.classes_, le.transform(le.classes_)))\n",
        "print(\"Play mapping:\",Play_name_mapping)\n",
        "print(\"\\n\\n\")\n",
        "print(\"Weather:\" ,Outlook_encoded)\n",
        "print(\"Temerature:\" ,Temperature_encoded)\n",
        "print(\"Humidity:\" ,Humidity_encoded)\n",
        "print(\"Wind:\" ,Wind_encoded)\n",
        "print(\"Play:\" ,Play_encoded)"
      ]
    },
    {
      "cell_type": "code",
      "execution_count": 3,
      "metadata": {
        "colab": {
          "base_uri": "https://localhost:8080/"
        },
        "id": "-8L2TGCbH9gy",
        "outputId": "f8466706-bb9c-49a8-d130-bb073d7f74b7"
      },
      "outputs": [
        {
          "output_type": "stream",
          "name": "stdout",
          "text": [
            "Features: [(1, 1, 0, 0), (1, 1, 0, 1), (0, 1, 0, 0), (2, 2, 0, 0), (2, 0, 1, 0), (2, 0, 1, 1), (0, 0, 1, 1), (1, 2, 0, 0), (1, 0, 1, 0), (2, 2, 1, 0), (1, 2, 1, 1), (0, 2, 0, 1), (0, 1, 1, 0), (2, 2, 0, 1)]\n"
          ]
        }
      ],
      "source": [
        "features=list(zip(Outlook_encoded,Temperature_encoded,Humidity_encoded,Wind_encoded))\n",
        "print(\"Features:\",features)"
      ]
    },
    {
      "cell_type": "code",
      "execution_count": 4,
      "metadata": {
        "colab": {
          "base_uri": "https://localhost:8080/"
        },
        "id": "PE8nQb0UIAAw",
        "outputId": "d314786b-fef1-4527-d278-cbf8a936d829"
      },
      "outputs": [
        {
          "output_type": "stream",
          "name": "stdout",
          "text": [
            "[(1, 2, 0, 0), (2, 2, 0, 1), (2, 0, 1, 1), (1, 1, 0, 1), (0, 1, 0, 0), (0, 2, 0, 1), (2, 2, 0, 0), (0, 1, 1, 0), (1, 2, 1, 1), (1, 1, 0, 0), (2, 0, 1, 0), (1, 0, 1, 0), (2, 2, 1, 0)]\n",
            "[(0, 0, 1, 1)]\n",
            "[0 0 0 0 1 1 1 1 1 0 1 1 1]\n",
            "[1]\n"
          ]
        }
      ],
      "source": [
        "from sklearn.model_selection import train_test_split\n",
        "X_train, X_test, y_train, y_test = train_test_split(features,Play_encoded , test_size=0.05, random_state=21)\n",
        "print(X_train)\n",
        "print(X_test)\n",
        "print(y_train)\n",
        "print(y_test)"
      ]
    },
    {
      "cell_type": "code",
      "execution_count": 5,
      "metadata": {
        "colab": {
          "base_uri": "https://localhost:8080/"
        },
        "id": "QwTBYjH4ICy4",
        "outputId": "5a4d8202-aaec-4a9d-cb1b-3a7c67a6e5ea"
      },
      "outputs": [
        {
          "output_type": "stream",
          "name": "stdout",
          "text": [
            "[1]\n"
          ]
        }
      ],
      "source": [
        "clf = DecisionTreeClassifier(criterion = \"entropy\", random_state = 151, max_leaf_nodes=21)\n",
        "clf = clf.fit(X_train,y_train)\n",
        "y_pred = clf.predict(X_test)\n",
        "print(y_pred)"
      ]
    },
    {
      "cell_type": "code",
      "execution_count": 6,
      "metadata": {
        "colab": {
          "base_uri": "https://localhost:8080/"
        },
        "id": "NN32Y-rRINR6",
        "outputId": "effa62ea-4284-4370-e1c9-11a139b60f4c"
      },
      "outputs": [
        {
          "output_type": "stream",
          "name": "stdout",
          "text": [
            "Accuracy: 1.0\n",
            "precision: 1.0\n",
            "recall: 1.0\n"
          ]
        }
      ],
      "source": [
        "from sklearn.metrics import precision_score\n",
        "from sklearn.metrics import recall_score\n",
        "from sklearn import metrics\n",
        "print(\"Accuracy:\",metrics.accuracy_score(y_test, y_pred))\n",
        "precision = precision_score(y_test, y_pred)\n",
        "recall = recall_score(y_test, y_pred)\n",
        "print('precision: {}'.format(precision))\n",
        "print('recall: {}'.format(recall))"
      ]
    },
    {
      "cell_type": "markdown",
      "metadata": {
        "id": "rvctBiH5ITNt"
      },
      "source": [
        "What will be the value of Play, if Outlook is ’Rainy’, Temperature is ’Mild’, Humidity =’Normal’, and Wind = ’False’?"
      ]
    },
    {
      "cell_type": "code",
      "execution_count": 7,
      "metadata": {
        "colab": {
          "base_uri": "https://localhost:8080/"
        },
        "id": "PgYAVhwwIY98",
        "outputId": "13a94a90-338e-4145-a4d9-798cd3088542"
      },
      "outputs": [
        {
          "output_type": "stream",
          "name": "stdout",
          "text": [
            "[1]\n"
          ]
        }
      ],
      "source": [
        "pred1 = clf.predict([(1,2,1,0)])\n",
        "print(pred1)"
      ]
    },
    {
      "cell_type": "markdown",
      "metadata": {
        "id": "eQBQDzlRIiUe"
      },
      "source": [
        "What will be the value of Play, if Outlook is ’Sunny’, Temeprature is ’Cool’, Humidity =’High’, and Wind = ’True’?"
      ]
    },
    {
      "cell_type": "code",
      "execution_count": 8,
      "metadata": {
        "colab": {
          "base_uri": "https://localhost:8080/"
        },
        "id": "Ngyd74x2IfQI",
        "outputId": "7830fdca-6ede-479b-c293-206064ff3b22"
      },
      "outputs": [
        {
          "output_type": "stream",
          "name": "stdout",
          "text": [
            "[0]\n"
          ]
        }
      ],
      "source": [
        "pred2 = clf.predict([(2,0,0,1)])\n",
        "print(pred2)"
      ]
    },
    {
      "cell_type": "markdown",
      "metadata": {
        "id": "7ov19FdaIwd9"
      },
      "source": [
        "Task 2: Apply algorithm on wine dataset - LabelEncoding of features: and Train test Division 66%-34%"
      ]
    },
    {
      "cell_type": "code",
      "execution_count": 9,
      "metadata": {
        "colab": {
          "base_uri": "https://localhost:8080/"
        },
        "id": "gWaMKd8FIodu",
        "outputId": "22283612-8b44-45d0-b0df-0b00dcb3f316"
      },
      "outputs": [
        {
          "output_type": "stream",
          "name": "stdout",
          "text": [
            "Features: ['alcohol', 'malic_acid', 'ash', 'alcalinity_of_ash', 'magnesium', 'total_phenols', 'flavanoids', 'nonflavanoid_phenols', 'proanthocyanins', 'color_intensity', 'hue', 'od280/od315_of_diluted_wines', 'proline']\n",
            "Labels: ['class_0' 'class_1' 'class_2']\n"
          ]
        }
      ],
      "source": [
        "from sklearn.datasets import load_wine\n",
        "from sklearn.tree import DecisionTreeClassifier\n",
        "wine_data = load_wine()\n",
        "print(\"Features:\",wine_data.feature_names)\n",
        "print(\"Labels:\",wine_data.target_names)"
      ]
    },
    {
      "cell_type": "code",
      "execution_count": 10,
      "metadata": {
        "id": "NfxcKA2NI3FT"
      },
      "outputs": [],
      "source": [
        "from sklearn.model_selection import train_test_split\n",
        "X_train, X_test, y_train, y_test = train_test_split(wine_data.data,wine_data.target , test_size=0.34, random_state=21)"
      ]
    },
    {
      "cell_type": "code",
      "execution_count": 11,
      "metadata": {
        "colab": {
          "base_uri": "https://localhost:8080/"
        },
        "id": "NRxGQdMQI7sd",
        "outputId": "c5de63e7-ebf9-457d-ba6a-fec16c24edfa"
      },
      "outputs": [
        {
          "output_type": "stream",
          "name": "stdout",
          "text": [
            "[0 1 0 2 2 0 0 0 2 0 1 1 1 0 0 2 2 0 2 0 0 2 2 1 1 1 0 0 1 0 1 1 1 1 0 2 2\n",
            " 1 1 0 1 1 0 1 1 0 2 2 1 1 0 2 2 2 1 1 1 1 0 2 2]\n"
          ]
        }
      ],
      "source": [
        "clf = DecisionTreeClassifier(criterion = \"entropy\", random_state = 151, max_leaf_nodes=21)\n",
        "clf = clf.fit(X_train,y_train)\n",
        "y_pred = clf.predict(X_test)\n",
        "print(y_pred)"
      ]
    },
    {
      "cell_type": "code",
      "execution_count": 12,
      "metadata": {
        "colab": {
          "base_uri": "https://localhost:8080/"
        },
        "id": "_pB0ufNoJAAv",
        "outputId": "462308b5-35c1-42e0-e9ba-9de7c9304cc7"
      },
      "outputs": [
        {
          "output_type": "stream",
          "name": "stdout",
          "text": [
            "Accuracy: 0.9508196721311475\n",
            "precision: [1.    0.875 1.   ]\n",
            "recall: [1.   1.   0.85]\n"
          ]
        }
      ],
      "source": [
        "from sklearn.metrics import precision_score\n",
        "from sklearn.metrics import recall_score\n",
        "from sklearn import metrics\n",
        "print(\"Accuracy:\",metrics.accuracy_score(y_test, y_pred))\n",
        "precision = precision_score(y_test, y_pred,average=None)\n",
        "recall = recall_score(y_test, y_pred,average=None)\n",
        "print('precision: {}'.format(precision))\n",
        "print('recall: {}'.format(recall))"
      ]
    }
  ],
  "metadata": {
    "colab": {
      "name": "Lab5_02.ipynb",
      "provenance": []
    },
    "kernelspec": {
      "display_name": "Python 3",
      "name": "python3"
    },
    "language_info": {
      "name": "python"
    }
  },
  "nbformat": 4,
  "nbformat_minor": 0
}