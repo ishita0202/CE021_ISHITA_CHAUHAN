{
  "nbformat": 4,
  "nbformat_minor": 0,
  "metadata": {
    "colab": {
      "name": "AnsOfLab8_TFIDF_Vectorizer.ipynb",
      "provenance": [],
      "collapsed_sections": []
    },
    "kernelspec": {
      "name": "python3",
      "display_name": "Python 3"
    },
    "language_info": {
      "name": "python"
    }
  },
  "cells": [
    {
      "cell_type": "markdown",
      "source": [
        "#Spam Classification Using Naive Bayes and Decision Tree Classifier"
      ],
      "metadata": {
        "id": "pRydL7LsK4Dt"
      }
    },
    {
      "cell_type": "markdown",
      "source": [
        "##Using TFIDF Vectorizer and Naive Bayes"
      ],
      "metadata": {
        "id": "SY5h08duLIKq"
      }
    },
    {
      "cell_type": "markdown",
      "source": [
        "Step1: Import Libraries"
      ],
      "metadata": {
        "id": "k76JpttBLOEc"
      }
    },
    {
      "cell_type": "code",
      "execution_count": 1,
      "metadata": {
        "id": "xHRBYtokK0hr"
      },
      "outputs": [],
      "source": [
        "import pandas as pd\n",
        "import numpy as np\n",
        "from sklearn.model_selection import train_test_split\n",
        "from sklearn.feature_extraction.text import TfidfVectorizer\n",
        "from sklearn.naive_bayes import MultinomialNB\n",
        "from sklearn.metrics import precision_score\n",
        "from sklearn.metrics import recall_score"
      ]
    },
    {
      "cell_type": "markdown",
      "source": [
        "Step2: Load Data"
      ],
      "metadata": {
        "id": "5iJdKnf3LYoS"
      }
    },
    {
      "cell_type": "code",
      "source": [
        "dataset = pd.read_csv('spam2.csv')\n",
        "print(\"\\nData Statistics:\", dataset.info())"
      ],
      "metadata": {
        "colab": {
          "base_uri": "https://localhost:8080/"
        },
        "id": "PyY4_2m1Lg4n",
        "outputId": "08319020-615c-41e8-881b-f10136872f6b"
      },
      "execution_count": 2,
      "outputs": [
        {
          "output_type": "stream",
          "name": "stdout",
          "text": [
            "<class 'pandas.core.frame.DataFrame'>\n",
            "RangeIndex: 5572 entries, 0 to 5571\n",
            "Data columns (total 2 columns):\n",
            " #   Column  Non-Null Count  Dtype \n",
            "---  ------  --------------  ----- \n",
            " 0   v1      5572 non-null   object\n",
            " 1   v2      5572 non-null   object\n",
            "dtypes: object(2)\n",
            "memory usage: 87.2+ KB\n",
            "\n",
            "Data Statistics: None\n"
          ]
        }
      ]
    },
    {
      "cell_type": "code",
      "source": [
        "dataset['v1'] = np.where(dataset['v1'] == 'spam',1, 0)"
      ],
      "metadata": {
        "id": "I7rkooRMLpai"
      },
      "execution_count": 3,
      "outputs": []
    },
    {
      "cell_type": "markdown",
      "source": [
        "Step3: Initializing Input and Target value"
      ],
      "metadata": {
        "id": "ENzSBsf0Lzmh"
      }
    },
    {
      "cell_type": "code",
      "source": [
        "X = dataset.loc[:, dataset.columns == 'v2'].values\n",
        "Y = dataset.loc[:, dataset.columns == 'v1'].values"
      ],
      "metadata": {
        "id": "Hw0nIos7LuZ6"
      },
      "execution_count": 4,
      "outputs": []
    },
    {
      "cell_type": "code",
      "source": [
        "X = dataset[\"v2\"]\n",
        "Y = dataset[\"v1\"]"
      ],
      "metadata": {
        "id": "Lm04ibrSNYpb"
      },
      "execution_count": 5,
      "outputs": []
    },
    {
      "cell_type": "markdown",
      "source": [
        "Step4: Spliting Data"
      ],
      "metadata": {
        "id": "uz7n9v8jL9Zc"
      }
    },
    {
      "cell_type": "code",
      "source": [
        "X_train,X_test,y_train,y_test = train_test_split(X, Y, test_size = 0.25, random_state = 21)      #Random_state=Roll_no"
      ],
      "metadata": {
        "id": "AuZGGIjlL_n2"
      },
      "execution_count": 7,
      "outputs": []
    },
    {
      "cell_type": "markdown",
      "source": [
        "Step5: Applying TFIDF Vectorizer"
      ],
      "metadata": {
        "id": "tG6arEPTMOrI"
      }
    },
    {
      "cell_type": "code",
      "source": [
        "vectorizer = TfidfVectorizer(ngram_range = (1, 2), stop_words = 'english').fit(X_train)\n",
        "X_train_vectorized = vectorizer.transform(X_train)\n",
        "X_test_vectorized = vectorizer.transform(X_test)\n",
        "X_train_vectorized.toarray()\n",
        "X_test_vectorized.toarray()"
      ],
      "metadata": {
        "colab": {
          "base_uri": "https://localhost:8080/"
        },
        "id": "Lr1WBDw9MczG",
        "outputId": "73760f19-9cda-42e6-b74f-bb92372a8cb4"
      },
      "execution_count": 8,
      "outputs": [
        {
          "output_type": "execute_result",
          "data": {
            "text/plain": [
              "array([[0., 0., 0., ..., 0., 0., 0.],\n",
              "       [0., 0., 0., ..., 0., 0., 0.],\n",
              "       [0., 0., 0., ..., 0., 0., 0.],\n",
              "       ...,\n",
              "       [0., 0., 0., ..., 0., 0., 0.],\n",
              "       [0., 0., 0., ..., 0., 0., 0.],\n",
              "       [0., 0., 0., ..., 0., 0., 0.]])"
            ]
          },
          "metadata": {},
          "execution_count": 8
        }
      ]
    },
    {
      "cell_type": "markdown",
      "source": [
        "Step6: Training Model"
      ],
      "metadata": {
        "id": "ztNKzJ0FNjLZ"
      }
    },
    {
      "cell_type": "code",
      "source": [
        "MNB = MultinomialNB(alpha = 0.1)\n",
        "MNB.fit(X_train_vectorized, y_train)"
      ],
      "metadata": {
        "colab": {
          "base_uri": "https://localhost:8080/"
        },
        "id": "_j447DF7Nne1",
        "outputId": "a7d4a459-a1e4-4d47-d6c1-e899901f626a"
      },
      "execution_count": 9,
      "outputs": [
        {
          "output_type": "execute_result",
          "data": {
            "text/plain": [
              "MultinomialNB(alpha=0.1)"
            ]
          },
          "metadata": {},
          "execution_count": 9
        }
      ]
    },
    {
      "cell_type": "markdown",
      "source": [
        "Step7: Accuracy, Precision, and Recall of the Model"
      ],
      "metadata": {
        "id": "jk4fvNWVNs3L"
      }
    },
    {
      "cell_type": "code",
      "source": [
        "print(\"Accuracy: \", MNB.score(X_test_vectorized,y_test)*100, '%')\n",
        "print(\"Precision Score: \", precision_score(y_test, MNB.predict(X_test_vectorized))*100, '%')\n",
        "print(\"Recall Score: \", recall_score(y_test, MNB.predict(X_test_vectorized))*100, '%')"
      ],
      "metadata": {
        "colab": {
          "base_uri": "https://localhost:8080/"
        },
        "id": "vH8YnwbnNvTk",
        "outputId": "9f4bc132-e974-425c-aafd-1def23497d43"
      },
      "execution_count": 10,
      "outputs": [
        {
          "output_type": "stream",
          "name": "stdout",
          "text": [
            "Accuracy:  98.56424982053123 %\n",
            "Precision Score:  97.63313609467455 %\n",
            "Recall Score:  91.16022099447514 %\n"
          ]
        }
      ]
    },
    {
      "cell_type": "markdown",
      "source": [
        "##Using TFIDF Vectorizer and Decision Tree Classifier"
      ],
      "metadata": {
        "id": "iyI4XUmYOU8h"
      }
    },
    {
      "cell_type": "markdown",
      "source": [
        "Step1: Training model"
      ],
      "metadata": {
        "id": "wocCHmLZOfVn"
      }
    },
    {
      "cell_type": "code",
      "source": [
        "from sklearn.tree import DecisionTreeClassifier\n",
        "DT = DecisionTreeClassifier()\n",
        "DT.fit(X_train_vectorized, y_train)"
      ],
      "metadata": {
        "colab": {
          "base_uri": "https://localhost:8080/"
        },
        "id": "tAJY-L5qOm8O",
        "outputId": "3e3ad36b-c1d8-4205-a828-f1cd2905f911"
      },
      "execution_count": 11,
      "outputs": [
        {
          "output_type": "execute_result",
          "data": {
            "text/plain": [
              "DecisionTreeClassifier()"
            ]
          },
          "metadata": {},
          "execution_count": 11
        }
      ]
    },
    {
      "cell_type": "markdown",
      "source": [
        "Step2: Accuracy, Precision, and Recall of the Model "
      ],
      "metadata": {
        "id": "gVQgQc0yOvfc"
      }
    },
    {
      "cell_type": "code",
      "source": [
        "print(\"Accuracy: \", DT.score(X_test_vectorized,y_test)*100, '%')\n",
        "print(\"Precision Score: \", precision_score(y_test, DT.predict(X_test_vectorized))*100, '%')\n",
        "print(\"Recall Score: \", recall_score(y_test, DT.predict(X_test_vectorized))*100, '%')"
      ],
      "metadata": {
        "colab": {
          "base_uri": "https://localhost:8080/"
        },
        "id": "C53Ot3qMOyYC",
        "outputId": "e94e47fc-f07f-42e4-b6b6-3bb984a08d48"
      },
      "execution_count": 12,
      "outputs": [
        {
          "output_type": "stream",
          "name": "stdout",
          "text": [
            "Accuracy:  96.33883704235463 %\n",
            "Precision Score:  93.91891891891892 %\n",
            "Recall Score:  76.79558011049724 %\n"
          ]
        }
      ]
    }
  ]
}